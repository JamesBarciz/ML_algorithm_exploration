{
  "nbformat": 4,
  "nbformat_minor": 0,
  "metadata": {
    "colab": {
      "name": "Linear_Regression_AdaBoost.ipynb",
      "provenance": []
    },
    "kernelspec": {
      "name": "python3",
      "display_name": "Python 3"
    }
  },
  "cells": [
    {
      "cell_type": "markdown",
      "metadata": {
        "id": "-EXVSuq1MKFf"
      },
      "source": [
        "# Made Using Google Colab"
      ]
    },
    {
      "cell_type": "code",
      "metadata": {
        "id": "zyMnRi08tyRZ"
      },
      "source": [
        "import pandas as pd\n",
        "import numpy as np\n",
        "\n",
        "from sklearn.ensemble import AdaBoostRegressor\n",
        "from sklearn.metrics import make_scorer, mean_squared_log_error\n",
        "from sklearn.model_selection import GridSearchCV\n",
        "\n",
        "from feature_select import Train\n",
        "\n",
        "\n",
        "def rmsle(predicted, actual, size):\n",
        "  return np.sqrt(np.nansum(np.square(np.log(predicted + 1) - np.log(actual + 1))) / float(size))\n",
        "\n",
        "\n",
        "train = Train(pd.read_csv('train_cleaned.csv'))\n",
        "\n",
        "scorer = make_scorer(rmsle, greater_is_better=False, size=10)"
      ],
      "execution_count": null,
      "outputs": []
    },
    {
      "cell_type": "code",
      "metadata": {
        "id": "VUWvypVkKFL6",
        "outputId": "ea27f039-dfd7-45f5-f562-24ac573fe6e2",
        "colab": {
          "base_uri": "https://localhost:8080/"
        }
      },
      "source": [
        "# Split the data\n",
        "X = train.cleaned.drop(columns='SalePrice')\n",
        "y = train.cleaned['SalePrice']\n",
        "\n",
        "X_train, y_train, X_val, y_val, X_test, y_test = train.train_val_test_split(\n",
        "    X=X, y=y, random_state=42\n",
        ")\n",
        "\n",
        "print(X_train.shape, y_train.shape, X_val.shape,\n",
        "      y_val.shape, X_test.shape, y_test.shape)"
      ],
      "execution_count": null,
      "outputs": [
        {
          "output_type": "stream",
          "text": [
            "(751, 25) (751,) (251, 25) (251,) (251, 25) (251,)\n"
          ],
          "name": "stdout"
        }
      ]
    },
    {
      "cell_type": "code",
      "metadata": {
        "id": "EILK7BGbKQZ7",
        "outputId": "12a8faa1-03f0-4029-85e1-de4f5c681804",
        "colab": {
          "base_uri": "https://localhost:8080/"
        }
      },
      "source": [
        "# Take the baseline of the model\n",
        "\n",
        "model = AdaBoostRegressor()\n",
        "\n",
        "model.fit(X_train, y_train)\n",
        "\n",
        "y_pred_val = model.predict(X_val)\n",
        "y_pred_test = model.predict(X_test)\n",
        "\n",
        "rmsle_val = np.sqrt(mean_squared_log_error(y_val, y_pred_val))\n",
        "rmsle_test = np.sqrt(mean_squared_log_error(y_test, y_pred_test))\n",
        "\n",
        "print(f'Validation Root Mean Squared Log Error: {rmsle_val}')\n",
        "print(f'Test Root Mean Squared Log Error: {rmsle_test}')"
      ],
      "execution_count": null,
      "outputs": [
        {
          "output_type": "stream",
          "text": [
            "Validation Root Mean Squared Log Error: 0.1839092126322143\n",
            "Test Root Mean Squared Log Error: 0.1689916719185605\n"
          ],
          "name": "stdout"
        }
      ]
    },
    {
      "cell_type": "markdown",
      "metadata": {
        "id": "mNuXLo9HKXsf"
      },
      "source": [
        "### Scores are No Bueno!"
      ]
    },
    {
      "cell_type": "code",
      "metadata": {
        "id": "HuxwkChCKVzS",
        "outputId": "6489adbf-f6eb-4141-d4b8-038459352040",
        "colab": {
          "base_uri": "https://localhost:8080/"
        }
      },
      "source": [
        "# Let's see if we can make it better with a GridSearch\n",
        "\n",
        "def make_model(param_grid, scoring=scorer, cv=5):\n",
        "  rfr = AdaBoostRegressor(random_state=42)\n",
        "  grid_search = GridSearchCV(rfr, scoring=scorer, cv=cv, param_grid=param_grid,\n",
        "                             n_jobs=-1, verbose=10)\n",
        "  return grid_search\n",
        "\n",
        "\n",
        "param_grid = {\n",
        "    'base_estimator': [None, 1, 2],\n",
        "    'n_estimators': [50, 100, 150, 200],\n",
        "    'learning_rate': [1, 0.1, 0.01, 0.001],\n",
        "    'loss': ['linear', 'square', 'exponential']\n",
        "}\n",
        "\n",
        "model = make_model(param_grid, cv=5)\n",
        "model"
      ],
      "execution_count": null,
      "outputs": [
        {
          "output_type": "execute_result",
          "data": {
            "text/plain": [
              "GridSearchCV(cv=5, error_score=nan,\n",
              "             estimator=AdaBoostRegressor(base_estimator=None, learning_rate=1.0,\n",
              "                                         loss='linear', n_estimators=50,\n",
              "                                         random_state=42),\n",
              "             iid='deprecated', n_jobs=-1,\n",
              "             param_grid={'base_estimator': [None, 1, 2],\n",
              "                         'learning_rate': [1, 0.1, 0.01, 0.001],\n",
              "                         'loss': ['linear', 'square', 'exponential'],\n",
              "                         'n_estimators': [50, 100, 150, 200]},\n",
              "             pre_dispatch='2*n_jobs', refit=True, return_train_score=False,\n",
              "             scoring=make_scorer(rmsle, greater_is_better=False, size=10),\n",
              "             verbose=10)"
            ]
          },
          "metadata": {
            "tags": []
          },
          "execution_count": 7
        }
      ]
    },
    {
      "cell_type": "code",
      "metadata": {
        "id": "dCUk2qmGLQaJ",
        "outputId": "db7e5135-8633-49af-9dc9-c675013b8647",
        "colab": {
          "base_uri": "https://localhost:8080/"
        }
      },
      "source": [
        "model.fit(X_train, y_train)"
      ],
      "execution_count": null,
      "outputs": [
        {
          "output_type": "stream",
          "text": [
            "Fitting 5 folds for each of 144 candidates, totalling 720 fits\n"
          ],
          "name": "stdout"
        },
        {
          "output_type": "stream",
          "text": [
            "[Parallel(n_jobs=-1)]: Using backend LokyBackend with 2 concurrent workers.\n",
            "[Parallel(n_jobs=-1)]: Done   1 tasks      | elapsed:    1.2s\n",
            "[Parallel(n_jobs=-1)]: Done   4 tasks      | elapsed:    1.5s\n",
            "[Parallel(n_jobs=-1)]: Done   9 tasks      | elapsed:    2.3s\n",
            "[Parallel(n_jobs=-1)]: Done  14 tasks      | elapsed:    3.5s\n",
            "[Parallel(n_jobs=-1)]: Done  21 tasks      | elapsed:    5.4s\n",
            "[Parallel(n_jobs=-1)]: Done  28 tasks      | elapsed:    6.3s\n",
            "[Parallel(n_jobs=-1)]: Done  37 tasks      | elapsed:    8.5s\n",
            "[Parallel(n_jobs=-1)]: Done  46 tasks      | elapsed:   10.0s\n",
            "[Parallel(n_jobs=-1)]: Done  57 tasks      | elapsed:   12.7s\n",
            "[Parallel(n_jobs=-1)]: Done  68 tasks      | elapsed:   14.7s\n",
            "[Parallel(n_jobs=-1)]: Done  81 tasks      | elapsed:   18.2s\n",
            "[Parallel(n_jobs=-1)]: Done  94 tasks      | elapsed:   20.7s\n",
            "[Parallel(n_jobs=-1)]: Done 109 tasks      | elapsed:   23.8s\n",
            "[Parallel(n_jobs=-1)]: Done 124 tasks      | elapsed:   27.5s\n",
            "[Parallel(n_jobs=-1)]: Done 141 tasks      | elapsed:   31.9s\n",
            "[Parallel(n_jobs=-1)]: Done 158 tasks      | elapsed:   35.8s\n",
            "[Parallel(n_jobs=-1)]: Done 177 tasks      | elapsed:   40.1s\n",
            "[Parallel(n_jobs=-1)]: Done 196 tasks      | elapsed:   44.6s\n",
            "[Parallel(n_jobs=-1)]: Done 217 tasks      | elapsed:   49.4s\n",
            "[Parallel(n_jobs=-1)]: Done 238 tasks      | elapsed:   54.6s\n",
            "[Parallel(n_jobs=-1)]: Batch computation too fast (0.1837s.) Setting batch_size=2.\n",
            "[Parallel(n_jobs=-1)]: Batch computation too fast (0.0286s.) Setting batch_size=4.\n",
            "[Parallel(n_jobs=-1)]: Batch computation too fast (0.0375s.) Setting batch_size=8.\n",
            "[Parallel(n_jobs=-1)]: Batch computation too fast (0.0714s.) Setting batch_size=16.\n",
            "[Parallel(n_jobs=-1)]: Done 291 tasks      | elapsed:   55.2s\n",
            "[Parallel(n_jobs=-1)]: Batch computation too fast (0.1085s.) Setting batch_size=32.\n",
            "[Parallel(n_jobs=-1)]: Done 698 tasks      | elapsed:   56.4s\n",
            "[Parallel(n_jobs=-1)]: Done 720 out of 720 | elapsed:   56.5s finished\n"
          ],
          "name": "stderr"
        },
        {
          "output_type": "execute_result",
          "data": {
            "text/plain": [
              "GridSearchCV(cv=5, error_score=nan,\n",
              "             estimator=AdaBoostRegressor(base_estimator=None, learning_rate=1.0,\n",
              "                                         loss='linear', n_estimators=50,\n",
              "                                         random_state=42),\n",
              "             iid='deprecated', n_jobs=-1,\n",
              "             param_grid={'base_estimator': [None, 1, 2],\n",
              "                         'learning_rate': [1, 0.1, 0.01, 0.001],\n",
              "                         'loss': ['linear', 'square', 'exponential'],\n",
              "                         'n_estimators': [50, 100, 150, 200]},\n",
              "             pre_dispatch='2*n_jobs', refit=True, return_train_score=False,\n",
              "             scoring=make_scorer(rmsle, greater_is_better=False, size=10),\n",
              "             verbose=10)"
            ]
          },
          "metadata": {
            "tags": []
          },
          "execution_count": 8
        }
      ]
    },
    {
      "cell_type": "code",
      "metadata": {
        "id": "1wDlpnlkLXCu",
        "outputId": "601bbc4d-4477-4936-9ab5-214fc313a32a",
        "colab": {
          "base_uri": "https://localhost:8080/"
        }
      },
      "source": [
        "model.best_params_"
      ],
      "execution_count": null,
      "outputs": [
        {
          "output_type": "execute_result",
          "data": {
            "text/plain": [
              "{'base_estimator': None,\n",
              " 'learning_rate': 1,\n",
              " 'loss': 'square',\n",
              " 'n_estimators': 50}"
            ]
          },
          "metadata": {
            "tags": []
          },
          "execution_count": 9
        }
      ]
    },
    {
      "cell_type": "code",
      "metadata": {
        "id": "TutuI_6uL14Q",
        "outputId": "04d42233-8fc7-4753-f0bf-05baf8253f42",
        "colab": {
          "base_uri": "https://localhost:8080/"
        }
      },
      "source": [
        "model.best_score_"
      ],
      "execution_count": null,
      "outputs": [
        {
          "output_type": "execute_result",
          "data": {
            "text/plain": [
              "-0.6170465148907293"
            ]
          },
          "metadata": {
            "tags": []
          },
          "execution_count": 10
        }
      ]
    },
    {
      "cell_type": "code",
      "metadata": {
        "id": "7zubN_3rL6y0",
        "outputId": "2573d1ad-ada5-424e-a3d8-6342863689bb",
        "colab": {
          "base_uri": "https://localhost:8080/"
        }
      },
      "source": [
        "# Check the model's R^2 scores and RMSLEs for Val and Test\n",
        "y_pred_val = model.predict(X_val)\n",
        "y_pred_test = model.predict(X_test)\n",
        "\n",
        "print('Val Score: ', model.score(X_val, y_val))\n",
        "print('Test Score: ', model.score(X_test, y_test))\n",
        "\n",
        "rmsle_val = np.sqrt(mean_squared_log_error(y_pred_val, y_val))\n",
        "rmsle_test = np.sqrt(mean_squared_log_error(y_pred_test, y_test))\n",
        "\n",
        "print(f'Val RMSLE: {rmsle_val}')\n",
        "print(f'Test RMSLE: {rmsle_test}')"
      ],
      "execution_count": null,
      "outputs": [
        {
          "output_type": "stream",
          "text": [
            "Val Score:  -0.9026594446230958\n",
            "Test Score:  -0.8534474496691925\n",
            "Val RMSLE: 0.18017190474005756\n",
            "Test RMSLE: 0.17034913168902605\n"
          ],
          "name": "stdout"
        }
      ]
    },
    {
      "cell_type": "code",
      "metadata": {
        "id": "Yj7znk-TL-WW",
        "outputId": "d1e1f22e-29ed-4f36-d272-e744446e20df",
        "colab": {
          "base_uri": "https://localhost:8080/",
          "height": 204
        }
      },
      "source": [
        "test = Train(pd.read_csv('test.csv'))\n",
        "cleaned_df = test.clean_df()\n",
        "\n",
        "IDs = cleaned_df['Id']\n",
        "feat = cleaned_df[cleaned_df.columns[1:]]\n",
        "\n",
        "y_pred = model.predict(feat)\n",
        "submission_gs_abr = pd.DataFrame({'Id': IDs, 'SalePrice': y_pred})\n",
        "submission_gs_abr.head()"
      ],
      "execution_count": null,
      "outputs": [
        {
          "output_type": "execute_result",
          "data": {
            "text/html": [
              "<div>\n",
              "<style scoped>\n",
              "    .dataframe tbody tr th:only-of-type {\n",
              "        vertical-align: middle;\n",
              "    }\n",
              "\n",
              "    .dataframe tbody tr th {\n",
              "        vertical-align: top;\n",
              "    }\n",
              "\n",
              "    .dataframe thead th {\n",
              "        text-align: right;\n",
              "    }\n",
              "</style>\n",
              "<table border=\"1\" class=\"dataframe\">\n",
              "  <thead>\n",
              "    <tr style=\"text-align: right;\">\n",
              "      <th></th>\n",
              "      <th>Id</th>\n",
              "      <th>SalePrice</th>\n",
              "    </tr>\n",
              "  </thead>\n",
              "  <tbody>\n",
              "    <tr>\n",
              "      <th>0</th>\n",
              "      <td>1461</td>\n",
              "      <td>125343.256281</td>\n",
              "    </tr>\n",
              "    <tr>\n",
              "      <th>1</th>\n",
              "      <td>1462</td>\n",
              "      <td>158627.307692</td>\n",
              "    </tr>\n",
              "    <tr>\n",
              "      <th>2</th>\n",
              "      <td>1463</td>\n",
              "      <td>188105.179724</td>\n",
              "    </tr>\n",
              "    <tr>\n",
              "      <th>3</th>\n",
              "      <td>1464</td>\n",
              "      <td>177953.013699</td>\n",
              "    </tr>\n",
              "    <tr>\n",
              "      <th>4</th>\n",
              "      <td>1465</td>\n",
              "      <td>194449.847162</td>\n",
              "    </tr>\n",
              "  </tbody>\n",
              "</table>\n",
              "</div>"
            ],
            "text/plain": [
              "     Id      SalePrice\n",
              "0  1461  125343.256281\n",
              "1  1462  158627.307692\n",
              "2  1463  188105.179724\n",
              "3  1464  177953.013699\n",
              "4  1465  194449.847162"
            ]
          },
          "metadata": {
            "tags": []
          },
          "execution_count": 12
        }
      ]
    },
    {
      "cell_type": "code",
      "metadata": {
        "id": "ETk6D883MEhD"
      },
      "source": [
        "# submission_gs_abr.to_csv('grid_search_abr0.csv', index=False)"
      ],
      "execution_count": null,
      "outputs": []
    },
    {
      "cell_type": "code",
      "metadata": {
        "id": "uSBjQGTuMHha"
      },
      "source": [
        ""
      ],
      "execution_count": null,
      "outputs": []
    }
  ]
}