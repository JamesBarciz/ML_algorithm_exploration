{
  "nbformat": 4,
  "nbformat_minor": 0,
  "metadata": {
    "colab": {
      "name": "Ridge_and_Lasso_Regression.ipynb",
      "provenance": [],
      "toc_visible": true
    },
    "kernelspec": {
      "name": "python3",
      "display_name": "Python 3"
    }
  },
  "cells": [
    {
      "cell_type": "markdown",
      "metadata": {
        "id": "hpkKwx_w8wpI"
      },
      "source": [
        "# Made Using Google Colab"
      ]
    },
    {
      "cell_type": "code",
      "metadata": {
        "colab": {
          "base_uri": "https://localhost:8080/"
        },
        "id": "MVTMVkvt8lJK",
        "outputId": "f6058ea3-f6fa-4050-a601-038b4489a169"
      },
      "source": [
        "import pandas as pd\n",
        "import numpy as np\n",
        "\n",
        "from sklearn.linear_model import LinearRegression\n",
        "from sklearn.metrics import make_scorer, mean_squared_log_error\n",
        "from sklearn.model_selection import cross_val_score\n",
        "\n",
        "from feature_select import Train\n",
        "\n",
        "\n",
        "def rmsle(pred, true):\n",
        "  return mean_squared_log_error(pred, true) ** 0.5\n",
        "\n",
        "\n",
        "scorer = make_scorer(rmsle, greater_is_better=False)\n",
        "\n",
        "train = Train(pd.read_csv('train_cleaned.csv'))\n",
        "\n",
        "# Split the data\n",
        "X = train.cleaned.drop(columns='SalePrice')\n",
        "y = train.cleaned['SalePrice']\n",
        "\n",
        "X_train, y_train, X_val, y_val, X_test, y_test = train.train_val_test_split(\n",
        "    X=X, y=y, random_state=42\n",
        ")\n",
        "\n",
        "print(X_train.shape, y_train.shape, X_val.shape,\n",
        "      y_val.shape, X_test.shape, y_test.shape)"
      ],
      "execution_count": 4,
      "outputs": [
        {
          "output_type": "stream",
          "text": [
            "(751, 25) (751,) (251, 25) (251,) (251, 25) (251,)\n"
          ],
          "name": "stdout"
        }
      ]
    },
    {
      "cell_type": "code",
      "metadata": {
        "colab": {
          "base_uri": "https://localhost:8080/"
        },
        "id": "gp1x4v6C979z",
        "outputId": "e88a26fc-f7ad-42e5-a28e-4dbc0181e180"
      },
      "source": [
        "lr = LinearRegression()\n",
        "score = cross_val_score(lr, X_train, y_train, scoring=scorer, cv=5)\n",
        "mean_score = sum(score) / len(score)\n",
        "print(f'Mean Score (rmsle) for Train: {mean_score}')\n",
        "print(score)"
      ],
      "execution_count": 6,
      "outputs": [
        {
          "output_type": "stream",
          "text": [
            "Mean Score (rmsle) for Train: -0.1568687571587947\n",
            "[-0.16153411 -0.17553237 -0.15370515 -0.14908811 -0.14448405]\n"
          ],
          "name": "stdout"
        }
      ]
    },
    {
      "cell_type": "code",
      "metadata": {
        "colab": {
          "base_uri": "https://localhost:8080/"
        },
        "id": "3SO80mdB-qc4",
        "outputId": "b7aaf677-2c61-4c9b-e19b-f0e0d79a7e5a"
      },
      "source": [
        "# Ridge Regression with multiple severities for penalty\n",
        "# 10-fold cross validation\n",
        "\n",
        "from sklearn.linear_model import Ridge\n",
        "from sklearn.model_selection import GridSearchCV\n",
        "\n",
        "\n",
        "ridge = Ridge(normalize=True)\n",
        "params_lambda = {'alpha': [1e-15, 1e-10, 1e-08, 0.001, 0.01, 0.1, 1, 5, 10, 20, 30, 35, 40, 45, 50, 55, 100]}\n",
        "\n",
        "grid_search = GridSearchCV(ridge, param_grid=params_lambda, scoring=scorer, cv=10)\n",
        "grid_search.fit(X_train, y_train)"
      ],
      "execution_count": 45,
      "outputs": [
        {
          "output_type": "execute_result",
          "data": {
            "text/plain": [
              "GridSearchCV(cv=10, error_score=nan,\n",
              "             estimator=Ridge(alpha=1.0, copy_X=True, fit_intercept=True,\n",
              "                             max_iter=None, normalize=True, random_state=None,\n",
              "                             solver='auto', tol=0.001),\n",
              "             iid='deprecated', n_jobs=None,\n",
              "             param_grid={'alpha': [1e-15, 1e-10, 1e-08, 0.001, 0.01, 0.1, 1, 5,\n",
              "                                   10, 20, 30, 35, 40, 45, 50, 55, 100]},\n",
              "             pre_dispatch='2*n_jobs', refit=True, return_train_score=False,\n",
              "             scoring=make_scorer(rmsle, greater_is_better=False), verbose=0)"
            ]
          },
          "metadata": {
            "tags": []
          },
          "execution_count": 45
        }
      ]
    },
    {
      "cell_type": "code",
      "metadata": {
        "colab": {
          "base_uri": "https://localhost:8080/"
        },
        "id": "z6-1h5gC_v3u",
        "outputId": "83e51829-8fb2-4da9-e268-59411051e3b7"
      },
      "source": [
        "print('Best Alpha: ', grid_search.best_params_)\n",
        "print('Best RMSLE: ', grid_search.best_score_)"
      ],
      "execution_count": 46,
      "outputs": [
        {
          "output_type": "stream",
          "text": [
            "Best Alpha:  {'alpha': 0.1}\n",
            "Best RMSLE:  -0.1524478797316533\n"
          ],
          "name": "stdout"
        }
      ]
    },
    {
      "cell_type": "code",
      "metadata": {
        "colab": {
          "base_uri": "https://localhost:8080/"
        },
        "id": "FaISm8YDEKHJ",
        "outputId": "eacdbdae-4ed9-4c7b-d2f1-c7b8fafc7b74"
      },
      "source": [
        "y_pred_t = grid_search.predict(X_test)\n",
        "y_pred_v = grid_search.predict(X_val)\n",
        "print(rmsle(y_pred_t, y_test))\n",
        "print(rmsle(y_pred_v, y_val))"
      ],
      "execution_count": 47,
      "outputs": [
        {
          "output_type": "stream",
          "text": [
            "0.1606310098347631\n",
            "0.16362209330053964\n"
          ],
          "name": "stdout"
        }
      ]
    },
    {
      "cell_type": "code",
      "metadata": {
        "colab": {
          "base_uri": "https://localhost:8080/",
          "height": 204
        },
        "id": "17Jf1QygEN18",
        "outputId": "5c75b0d8-2c0d-4453-ad95-ad06643d58c9"
      },
      "source": [
        "test = Train(pd.read_csv('test.csv'))\n",
        "cleaned_df = test.clean_df()\n",
        "\n",
        "IDs = cleaned_df['Id']\n",
        "feat = cleaned_df[cleaned_df.columns[1:]]\n",
        "\n",
        "y_pred = grid_search.predict(feat)\n",
        "submission_gs_ridge = pd.DataFrame({'Id': IDs, 'SalePrice': y_pred})\n",
        "submission_gs_ridge.head()"
      ],
      "execution_count": 48,
      "outputs": [
        {
          "output_type": "execute_result",
          "data": {
            "text/html": [
              "<div>\n",
              "<style scoped>\n",
              "    .dataframe tbody tr th:only-of-type {\n",
              "        vertical-align: middle;\n",
              "    }\n",
              "\n",
              "    .dataframe tbody tr th {\n",
              "        vertical-align: top;\n",
              "    }\n",
              "\n",
              "    .dataframe thead th {\n",
              "        text-align: right;\n",
              "    }\n",
              "</style>\n",
              "<table border=\"1\" class=\"dataframe\">\n",
              "  <thead>\n",
              "    <tr style=\"text-align: right;\">\n",
              "      <th></th>\n",
              "      <th>Id</th>\n",
              "      <th>SalePrice</th>\n",
              "    </tr>\n",
              "  </thead>\n",
              "  <tbody>\n",
              "    <tr>\n",
              "      <th>0</th>\n",
              "      <td>1461</td>\n",
              "      <td>117624.511950</td>\n",
              "    </tr>\n",
              "    <tr>\n",
              "      <th>1</th>\n",
              "      <td>1462</td>\n",
              "      <td>166843.115987</td>\n",
              "    </tr>\n",
              "    <tr>\n",
              "      <th>2</th>\n",
              "      <td>1463</td>\n",
              "      <td>173419.473090</td>\n",
              "    </tr>\n",
              "    <tr>\n",
              "      <th>3</th>\n",
              "      <td>1464</td>\n",
              "      <td>182080.834126</td>\n",
              "    </tr>\n",
              "    <tr>\n",
              "      <th>4</th>\n",
              "      <td>1465</td>\n",
              "      <td>177360.882334</td>\n",
              "    </tr>\n",
              "  </tbody>\n",
              "</table>\n",
              "</div>"
            ],
            "text/plain": [
              "     Id      SalePrice\n",
              "0  1461  117624.511950\n",
              "1  1462  166843.115987\n",
              "2  1463  173419.473090\n",
              "3  1464  182080.834126\n",
              "4  1465  177360.882334"
            ]
          },
          "metadata": {
            "tags": []
          },
          "execution_count": 48
        }
      ]
    },
    {
      "cell_type": "code",
      "metadata": {
        "id": "jiNoHLnuEcWf"
      },
      "source": [
        "# submission_gs_ridge.to_csv('grid_search_ridge0.csv', index=False)"
      ],
      "execution_count": 49,
      "outputs": []
    },
    {
      "cell_type": "code",
      "metadata": {
        "colab": {
          "base_uri": "https://localhost:8080/"
        },
        "id": "ae6ZfXuyAHOm",
        "outputId": "598ed166-2e27-47b5-c408-89093c3fb85a"
      },
      "source": [
        "# Lasso Regression with multiple severities for penalty\n",
        "# 10-fold cross validation\n",
        "\n",
        "from sklearn.linear_model import Lasso\n",
        "\n",
        "\n",
        "lasso = Lasso(tol=0.1)  # Need to change tolerance from 0.0001 to 0.1 to suppress some warnings\n",
        "# params_lambda is the same\n",
        "grid_search = GridSearchCV(lasso, param_grid=params_lambda,\n",
        "                           scoring=scorer, cv=10)\n",
        "grid_search.fit(X_train, y_train)"
      ],
      "execution_count": 38,
      "outputs": [
        {
          "output_type": "execute_result",
          "data": {
            "text/plain": [
              "GridSearchCV(cv=10, error_score=nan,\n",
              "             estimator=Lasso(alpha=1.0, copy_X=True, fit_intercept=True,\n",
              "                             max_iter=1000, normalize=False, positive=False,\n",
              "                             precompute=False, random_state=None,\n",
              "                             selection='cyclic', tol=0.1, warm_start=False),\n",
              "             iid='deprecated', n_jobs=None,\n",
              "             param_grid={'alpha': [1e-15, 1e-10, 1e-08, 0.001, 0.01, 0.1, 1, 5,\n",
              "                                   10, 20, 30, 35, 40, 45, 50, 55, 100]},\n",
              "             pre_dispatch='2*n_jobs', refit=True, return_train_score=False,\n",
              "             scoring=make_scorer(rmsle, greater_is_better=False), verbose=0)"
            ]
          },
          "metadata": {
            "tags": []
          },
          "execution_count": 38
        }
      ]
    },
    {
      "cell_type": "code",
      "metadata": {
        "colab": {
          "base_uri": "https://localhost:8080/"
        },
        "id": "WAK84iQgAxjy",
        "outputId": "bb8e927f-db33-4880-956f-6356e5da9567"
      },
      "source": [
        "print('Best Alpha: ', grid_search.best_params_)\n",
        "print('Best RMSLE: ', grid_search.best_score_)"
      ],
      "execution_count": 39,
      "outputs": [
        {
          "output_type": "stream",
          "text": [
            "Best Alpha:  {'alpha': 100}\n",
            "Best RMSLE:  -0.1574323790697726\n"
          ],
          "name": "stdout"
        }
      ]
    },
    {
      "cell_type": "code",
      "metadata": {
        "colab": {
          "base_uri": "https://localhost:8080/"
        },
        "id": "-yYVhsEXCwAY",
        "outputId": "e99a9436-9ece-4be6-b2c9-48e96b1110e3"
      },
      "source": [
        "y_pred_t = grid_search.predict(X_test)\n",
        "y_pred_v = grid_search.predict(X_val)\n",
        "print(rmsle(y_pred_t, y_test))\n",
        "print(rmsle(y_pred_v, y_val))"
      ],
      "execution_count": 40,
      "outputs": [
        {
          "output_type": "stream",
          "text": [
            "0.1660785449996377\n",
            "0.16474253926508842\n"
          ],
          "name": "stdout"
        }
      ]
    },
    {
      "cell_type": "code",
      "metadata": {
        "id": "-YEHLkkcD6Z4"
      },
      "source": [
        "# The results are not better than Ridge so, I conclude the features I am using\n",
        "# are important enough to keep."
      ],
      "execution_count": null,
      "outputs": []
    }
  ]
}